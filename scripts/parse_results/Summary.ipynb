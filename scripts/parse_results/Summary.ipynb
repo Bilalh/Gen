{
 "metadata": {
  "name": ""
 },
 "nbformat": 3,
 "nbformat_minor": 0,
 "worksheets": [
  {
   "cells": [
    {
     "cell_type": "code",
     "collapsed": false,
     "input": [
      "%load_ext autoreload\n",
      "%autoreload 2\n",
      "\n",
      "import pandas as pd\n",
      "import numpy as np\n",
      "from pathlib import Path\n",
      "import matplotlib.pyplot as plt\n",
      "\n",
      "from analyse import *\n",
      "from IPython.display import HTML\n",
      "from IPython.display import display\n",
      "\n",
      "df = load_data_frame()\n",
      "param_eprime_info = load_data_frame_param_eprime_info()\n",
      "pd.options.display.line_width = 1000\n",
      "pd.options.display.max_columns = 300"
     ],
     "language": "python",
     "metadata": {},
     "outputs": [
      {
       "output_type": "stream",
       "stream": "stdout",
       "text": [
        "The autoreload extension is already loaded. To reload it, use:\n",
        "  %reload_ext autoreload\n"
       ]
      }
     ],
     "prompt_number": 38
    },
    {
     "cell_type": "code",
     "collapsed": false,
     "input": [
      "display(df)\n",
      "display(param_eprime_info)"
     ],
     "language": "python",
     "metadata": {},
     "outputs": [
      {
       "html": [
        "<pre>\n",
        "&lt;class 'pandas.core.frame.DataFrame'&gt;\n",
        "Int64Index: 72 entries, 0 to 71\n",
        "Data columns (total 21 columns):\n",
        "best_quality               71  non-null values\n",
        "chain_length               18  non-null values\n",
        "essence                    72  non-null values\n",
        "index                      72  non-null values\n",
        "influence_radius           63  non-null values\n",
        "max_discriminating         72  non-null values\n",
        "method                     72  non-null values\n",
        "models_timeout             72  non-null values\n",
        "num_models                 72  non-null values\n",
        "num_points                 27  non-null values\n",
        "param_count                72  non-null values\n",
        "point_selector             27  non-null values\n",
        "races                      72  non-null values\n",
        "radius_as_percentage       63  non-null values\n",
        "run_no                     72  non-null values\n",
        "total_timeout              72  non-null values\n",
        "output_dir                 72  non-null values\n",
        "resulting_models           71  non-null values\n",
        "resulting_models_filled    72  non-null values\n",
        "total_timeout_h            72  non-null values\n",
        "group_num                  72  non-null values\n",
        "dtypes: float64(8), int64(9), object(4)\n",
        "</pre>"
       ],
       "metadata": {},
       "output_type": "display_data",
       "text": [
        "<class 'pandas.core.frame.DataFrame'>\n",
        "Int64Index: 72 entries, 0 to 71\n",
        "Data columns (total 21 columns):\n",
        "best_quality               71  non-null values\n",
        "chain_length               18  non-null values\n",
        "essence                    72  non-null values\n",
        "index                      72  non-null values\n",
        "influence_radius           63  non-null values\n",
        "max_discriminating         72  non-null values\n",
        "method                     72  non-null values\n",
        "models_timeout             72  non-null values\n",
        "num_models                 72  non-null values\n",
        "num_points                 27  non-null values\n",
        "param_count                72  non-null values\n",
        "point_selector             27  non-null values\n",
        "races                      72  non-null values\n",
        "radius_as_percentage       63  non-null values\n",
        "run_no                     72  non-null values\n",
        "total_timeout              72  non-null values\n",
        "output_dir                 72  non-null values\n",
        "resulting_models           71  non-null values\n",
        "resulting_models_filled    72  non-null values\n",
        "total_timeout_h            72  non-null values\n",
        "group_num                  72  non-null values\n",
        "dtypes: float64(8), int64(9), object(4)"
       ]
      },
      {
       "html": [
        "<pre>\n",
        "&lt;class 'pandas.core.frame.DataFrame'&gt;\n",
        "Int64Index: 438 entries, 0 to 437\n",
        "Data columns (total 10 columns):\n",
        "eprimeC          438  non-null values\n",
        "index            438  non-null values\n",
        "max_solutions    438  non-null values\n",
        "min_ordering     438  non-null values\n",
        "num_models       438  non-null values\n",
        "paramC           438  non-null values\n",
        "quality          438  non-null values\n",
        "satisfiable      438  non-null values\n",
        "eprimes          438  non-null values\n",
        "params           438  non-null values\n",
        "dtypes: float64(1), int64(7), object(2)\n",
        "</pre>"
       ],
       "metadata": {},
       "output_type": "display_data",
       "text": [
        "<class 'pandas.core.frame.DataFrame'>\n",
        "Int64Index: 438 entries, 0 to 437\n",
        "Data columns (total 10 columns):\n",
        "eprimeC          438  non-null values\n",
        "index            438  non-null values\n",
        "max_solutions    438  non-null values\n",
        "min_ordering     438  non-null values\n",
        "num_models       438  non-null values\n",
        "paramC           438  non-null values\n",
        "quality          438  non-null values\n",
        "satisfiable      438  non-null values\n",
        "eprimes          438  non-null values\n",
        "params           438  non-null values\n",
        "dtypes: float64(1), int64(7), object(2)"
       ]
      }
     ],
     "prompt_number": 39
    },
    {
     "cell_type": "code",
     "collapsed": false,
     "input": [
      "def get_models_for_all_params(row):\n",
      "    eprimes = param_eprime_info[ param_eprime_info[\"index\"] == row[\"index\"] ]\n",
      "    return eprimes[[ 'paramC', 'eprimeC', 'eprimes' ]]"
     ],
     "language": "python",
     "metadata": {},
     "outputs": [],
     "prompt_number": 40
    },
    {
     "cell_type": "code",
     "collapsed": false,
     "input": [
      "def row_for_display(row):\n",
      "    to_drop =['max_discriminating', 'output_dir', 'resulting_models_filled','total_timeout']\n",
      "    for col in ['quality', 'resulting_models', 'radius_as_percentage']:\n",
      "        if col in row:\n",
      "            to_drop.append(col)\n",
      "\n",
      "    to_drop += ['essence','total_timeout_h', 'races','models_timeout', 'group_num','run_no']\n",
      "    \n",
      "    to_display=row.drop(labels=to_drop).dropna()\n",
      "    \n",
      "#     show_first =[ 'essence', 'num_models', 'method', 'total_timeout_h',  'races', 'run_no']\n",
      "    show_first =['method', 'num_models']\n",
      "    s1 = str(to_display[show_first]).splitlines()[0:-1]\n",
      "    s2 = str(to_display.drop(labels=show_first)).splitlines()[0:-1]\n",
      "    max_s1 = max(map(len, s1))\n",
      "    \n",
      "    def check(f,s):\n",
      "        if f:\n",
      "            return f + \"    \" + s\n",
      "        else:\n",
      "            return \" \" * max_s1 + \"    \" + s\n",
      "    result = \"\\n\".join( check(f,s)  for (f, s) in it.zip_longest(s1,s2, fillvalue=\"\") ) \n",
      "    return result\n",
      "        "
     ],
     "language": "python",
     "metadata": {},
     "outputs": [],
     "prompt_number": 41
    },
    {
     "cell_type": "code",
     "collapsed": false,
     "input": [
      "import sys\n",
      "def print_formatted(*, frame,fp=sys.stdout):\n",
      "    for g in frame.groupby(by=['essence','total_timeout_h', 'races']):\n",
      "        print(\"essence: {}, total_timeout_h: {}, races: {} ({l})\\n\".format(*g[0],l=len(g[1])),file=fp)\n",
      "#         print(\"essence: {}, total_timeout_h: {}, races: {} ({l})\\n\".format(*g[0],l=len(g[1])))\n",
      "        for r2 in g[1].iterrows():\n",
      "            if r2[1]['run_no'] == 1:\n",
      "                print(\"~~~~~~~~~~~\\n\",file=fp)\n",
      "                print( row_for_display(r2[1]), file=fp  ) \n",
      "                print(\"---Runs---\", file=fp)\n",
      "\n",
      "            pd.options.display.max_colwidth = 10000\n",
      "            print(\"Run {}:\".format(r2[1]['run_no']),file=fp)\n",
      "            print( get_models_for_all_params(r2[1]), file=fp)\n",
      "            print(\"\", file=fp)\n",
      "\n",
      "                    \n",
      "        print(\"~~~~~~~~~~~~~~~~~~~~~~~~~~~~~~~~~~~~~~~~~~~~~~~~~~~~~~\\n\", file=fp)\n",
      "            \n",
      "chosen = df[ df.total_timeout_h >=3 ]\n",
      "fff=chosen.groupby(by=['essence','total_timeout_h', 'races'])\n",
      "for g in fff:\n",
      "    print(len(g[1]))\n",
      "    break"
     ],
     "language": "python",
     "metadata": {},
     "outputs": [
      {
       "output_type": "stream",
       "stream": "stdout",
       "text": [
        "24\n"
       ]
      }
     ],
     "prompt_number": 42
    },
    {
     "cell_type": "code",
     "collapsed": false,
     "input": [
      "Summary_dir = Base_Path / \"summary\"\n",
      "if not Summary_dir.exists: Summary_dir.mkdir()"
     ],
     "language": "python",
     "metadata": {},
     "outputs": [],
     "prompt_number": 43
    },
    {
     "cell_type": "code",
     "collapsed": false,
     "input": [
      "with (Summary_dir /  \"summary.txt\").open(\"w\") as fp: \n",
      "    %time print_formatted(frame=chosen , fp=fp)"
     ],
     "language": "python",
     "metadata": {},
     "outputs": [
      {
       "output_type": "stream",
       "stream": "stdout",
       "text": [
        "CPU times: user 651 ms, sys: 3.7 ms, total: 654 ms\n",
        "Wall time: 654 ms\n"
       ]
      }
     ],
     "prompt_number": 44
    },
    {
     "cell_type": "code",
     "collapsed": false,
     "input": [
      "cc=chosen\n",
      "discriminating = cc[cc.group_num.isin(\n",
      "                    cc[ cc.resulting_models_filled < cc.num_models ]['group_num'].unique()\n",
      "                   )]\n",
      "with (Summary_dir / \"discriminating.txt\").open(\"w\") as fp: \n",
      "    %time print_formatted(frame=discriminating, fp=fp)"
     ],
     "language": "python",
     "metadata": {},
     "outputs": [
      {
       "output_type": "stream",
       "stream": "stdout",
       "text": [
        "CPU times: user 655 ms, sys: 3.63 ms, total: 658 ms\n",
        "Wall time: 658 ms\n"
       ]
      }
     ],
     "prompt_number": 45
    },
    {
     "cell_type": "code",
     "collapsed": false,
     "input": [
      "cc=chosen\n",
      "discriminating = cc[cc.group_num.isin(\n",
      "                    cc[ cc.resulting_models_filled < cc.num_models ]['group_num'].unique()\n",
      "                   )]\n",
      "\n",
      "dd= discriminating\n",
      "dd['temp'] = dd.resulting_models_filled < dd.num_models\n",
      "dd['group_dis_size'] = dd.group_num \n",
      "dd['group_size'] = dd.group_num \n",
      "\n",
      "\n",
      "dd.group_size = dd.group_size.apply(func=lambda x: len(dd[ dd.group_num == x].temp ))\n",
      "dd.group_dis = dd.group_dis_size.apply(func=lambda x: dd[ dd.group_num == x].temp.all()  )\n",
      "\n",
      "dis_groups = dd[dd.group_dis]\n",
      "dis_groups2 = dis_groups.drop(labels=['temp', 'group_dis_size', 'group_size'], axis=1)\n",
      "\n",
      "with (Summary_dir / \"all_runs_discriminating.txt\").open(\"w\") as fp: \n",
      "    %time print_formatted(frame=dis_groups2, fp=fp)"
     ],
     "language": "python",
     "metadata": {},
     "outputs": [
      {
       "output_type": "stream",
       "stream": "stdout",
       "text": [
        "CPU times: user 615 ms, sys: 3.13 ms, total: 618 ms\n",
        "Wall time: 618 ms\n"
       ]
      }
     ],
     "prompt_number": 46
    },
    {
     "cell_type": "code",
     "collapsed": false,
     "input": [
      "cc=chosen\n",
      "num = 10\n",
      "cc['bound'] = cc.num_models * num / 100.0 \n",
      "cc['bound'] = cc['bound'].apply(func=lambda x: 1.01 if x < 1.01 else x )\n",
      "    \n",
      "discriminating = cc[cc.group_num.isin(\n",
      "                    cc[  cc.resulting_models_filled <= cc.bound  ]['group_num'].unique()\n",
      "                   )]\n",
      "\n",
      "dd= discriminating\n",
      "dd['temp'] = dd.resulting_models_filled < dd.num_models\n",
      "dd['group_dis_size'] = dd.group_num \n",
      "dd['group_size'] = dd.group_num \n",
      "\n",
      "\n",
      "dd.group_size = dd.group_size.apply(func=lambda x: len(dd[ dd.group_num == x].temp ))\n",
      "dd.group_dis = dd.group_dis_size.apply(func=lambda x: dd[ dd.group_num == x].temp.all()  )\n",
      "\n",
      "dis_groups = dd[dd.group_dis]\n",
      "dis_groups2 = dis_groups.drop(labels=['temp', 'group_dis_size', 'group_size'], axis=1)\n",
      "\n",
      "with (Summary_dir / \"all_runs_discriminating_less_then_{}_per.txt\".format(num)).open(\"w\") as fp: \n",
      "    %time print_formatted(frame=dis_groups2, fp=fp)\n",
      "# display(len(dd))\n",
      "# dd.sort(axis=0,  columns='group_num')[ dd['index'] == 247 ][[ 'index', 'group_num', 'bound', 'resulting_models_filled' ]]\n"
     ],
     "language": "python",
     "metadata": {},
     "outputs": [
      {
       "output_type": "stream",
       "stream": "stdout",
       "text": [
        "CPU times: user 426 ms, sys: 3.27 ms, total: 430 ms\n",
        "Wall time: 430 ms\n"
       ]
      }
     ],
     "prompt_number": 47
    }
   ],
   "metadata": {}
  }
 ]
}