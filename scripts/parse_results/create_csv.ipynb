{
 "metadata": {
  "name": ""
 },
 "nbformat": 3,
 "nbformat_minor": 0,
 "worksheets": [
  {
   "cells": [
    {
     "cell_type": "code",
     "collapsed": false,
     "input": [
      "import create_csv as cc\n",
      "from pathlib import Path"
     ],
     "language": "python",
     "metadata": {},
     "outputs": [],
     "prompt_number": 1
    },
    {
     "cell_type": "code",
     "collapsed": false,
     "input": [
      "all_rows = []\n",
      "for base_str in [\"/Users/bilalh/Desktop/Experiments\", \"/Users/bilalh/Desktop/Experiments/div_cores\"]:\n",
      "    rows = cc.collect_data_as_dicts(base_str)\n",
      "    csv_fp = Path(base_str) / \"results\" / \"info.csv\"\n",
      "    cc.write_dicts_as_csv(csv_fp, rows)\n",
      "    all_rows += rows"
     ],
     "language": "python",
     "metadata": {},
     "outputs": [],
     "prompt_number": 2
    },
    {
     "cell_type": "code",
     "collapsed": false,
     "input": [
      "print(len(all_rows))\n",
      "cc.write_dicts_as_csv(\"/Users/bilalh/Desktop/Experiments/all.csv\" , all_rows)"
     ],
     "language": "python",
     "metadata": {},
     "outputs": [
      {
       "output_type": "stream",
       "stream": "stdout",
       "text": [
        "580\n"
       ]
      }
     ],
     "prompt_number": 3
    },
    {
     "cell_type": "code",
     "collapsed": false,
     "input": [],
     "language": "python",
     "metadata": {},
     "outputs": [],
     "prompt_number": 3
    }
   ],
   "metadata": {}
  }
 ]
}