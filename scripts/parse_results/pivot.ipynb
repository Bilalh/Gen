{
 "metadata": {
  "name": ""
 },
 "nbformat": 3,
 "nbformat_minor": 0,
 "worksheets": [
  {
   "cells": [
    {
     "cell_type": "code",
     "collapsed": false,
     "input": [
      "import pandas as pd\n",
      "import numpy as np\n",
      "from pathlib import Path"
     ],
     "language": "python",
     "metadata": {},
     "outputs": [],
     "prompt_number": 22
    },
    {
     "cell_type": "code",
     "collapsed": false,
     "input": [
      "base_str = \"/Users/bilalh/Desktop/Experiments\"\n",
      "base = Path(base_str)"
     ],
     "language": "python",
     "metadata": {},
     "outputs": [],
     "prompt_number": 23
    },
    {
     "cell_type": "code",
     "collapsed": false,
     "input": [
      "df = pd.read_csv(str(base / \"results\" / \"info.csv\"))"
     ],
     "language": "python",
     "metadata": {},
     "outputs": [],
     "prompt_number": 24
    },
    {
     "cell_type": "code",
     "collapsed": false,
     "input": [
      "df['resulting_models'] = df['num_models'] * df['quality'] \n",
      "df['resulting_models_filled'] = df['resulting_models'].fillna(df['num_models'])\n"
     ],
     "language": "python",
     "metadata": {},
     "outputs": [],
     "prompt_number": 40
    },
    {
     "cell_type": "code",
     "collapsed": false,
     "input": [
      "df.pivot_table(cols=['essence', 'num_models', 'method', 'total_timeout', 'races'], \n",
      "               values='resulting_models_filled')"
     ],
     "language": "python",
     "metadata": {},
     "outputs": [
      {
       "metadata": {},
       "output_type": "pyout",
       "prompt_number": 33,
       "text": [
        "essence           num_models  method   total_timeout  races\n",
        "prob024-Langford  154         ksample  43200          5        78.875\n",
        "                                                      10        2.500\n",
        "                                       86400          5        41.750\n",
        "                                                      10       40.500\n",
        "dtype: float64"
       ]
      }
     ],
     "prompt_number": 33
    },
    {
     "cell_type": "code",
     "collapsed": false,
     "input": [
      "df.pivot_table(cols=['essence', 'num_models', 'total_timeout','races', 'method'], \n",
      "               values='resulting_models_filled')"
     ],
     "language": "python",
     "metadata": {},
     "outputs": [
      {
       "metadata": {},
       "output_type": "pyout",
       "prompt_number": 34,
       "text": [
        "essence           num_models  total_timeout  races  method \n",
        "prob024-Langford  154         43200          5      ksample    78.875\n",
        "                                             10     ksample     2.500\n",
        "                              86400          5      ksample    41.750\n",
        "                                             10     ksample    40.500\n",
        "dtype: float64"
       ]
      }
     ],
     "prompt_number": 34
    },
    {
     "cell_type": "code",
     "collapsed": false,
     "input": [
      "klang = df[ (df['method'] == 'ksample') & (df['essence'] == 'prob024-Langford')  ]"
     ],
     "language": "python",
     "metadata": {},
     "outputs": [],
     "prompt_number": 39
    },
    {
     "cell_type": "code",
     "collapsed": false,
     "input": [
      "klang.pivot_table(cols=['num_points'], values=['resulting_models_filled'] )"
     ],
     "language": "python",
     "metadata": {},
     "outputs": [
      {
       "html": [
        "<div style=\"max-height:1000px;max-width:1500px;overflow:auto;\">\n",
        "<table border=\"1\" class=\"dataframe\">\n",
        "  <thead>\n",
        "    <tr style=\"text-align: right;\">\n",
        "      <th>num_points</th>\n",
        "      <th>20</th>\n",
        "      <th>100</th>\n",
        "    </tr>\n",
        "  </thead>\n",
        "  <tbody>\n",
        "    <tr>\n",
        "      <th>resulting_models_filled</th>\n",
        "      <td> 41.25</td>\n",
        "      <td> 53.5</td>\n",
        "    </tr>\n",
        "  </tbody>\n",
        "</table>\n",
        "</div>"
       ],
       "metadata": {},
       "output_type": "pyout",
       "prompt_number": 29,
       "text": [
        "num_points                 20    100\n",
        "resulting_models_filled  41.25  53.5"
       ]
      }
     ],
     "prompt_number": 29
    },
    {
     "cell_type": "code",
     "collapsed": false,
     "input": [
      "klang.pivot_table(cols=['num_points', 'total_timeout','races'], \n",
      "                  values='resulting_models_filled', \n",
      "                  margins=True )"
     ],
     "language": "python",
     "metadata": {},
     "outputs": [
      {
       "metadata": {},
       "output_type": "pyout",
       "prompt_number": 38,
       "text": [
        "num_points  total_timeout  races\n",
        "20          43200          5         41.250\n",
        "                           10         2.500\n",
        "            86400          5         80.000\n",
        "                           10         2.500\n",
        "100         43200          5        116.500\n",
        "                           10         2.500\n",
        "            86400          5          3.500\n",
        "                           10        78.500\n",
        "All                                  47.375\n",
        "dtype: float64"
       ]
      }
     ],
     "prompt_number": 38
    },
    {
     "cell_type": "code",
     "collapsed": false,
     "input": [
      "klang.pivot_table(cols=['point_selector', 'total_timeout', 'races'], \n",
      "                  values='resulting_models_filled', \n",
      "                  margins=True )"
     ],
     "language": "python",
     "metadata": {},
     "outputs": [
      {
       "metadata": {},
       "output_type": "pyout",
       "prompt_number": 36,
       "text": [
        "point_selector  total_timeout  races\n",
        "first           43200          5        79.250\n",
        "                               10        2.500\n",
        "                86400          5        42.500\n",
        "                               10       78.000\n",
        "halving         43200          5        78.500\n",
        "                               10        2.500\n",
        "                86400          5        41.000\n",
        "                               10        3.000\n",
        "All                                     47.375\n",
        "dtype: float64"
       ]
      }
     ],
     "prompt_number": 36
    },
    {
     "cell_type": "markdown",
     "metadata": {},
     "source": [
      "43200s (12h) 25 races on 32 cores\n",
      "\n",
      "43200/26 = 1661s\n",
      "\n",
      "so each model should get 1661/(154) =10.8s"
     ]
    },
    {
     "cell_type": "code",
     "collapsed": false,
     "input": [],
     "language": "python",
     "metadata": {},
     "outputs": []
    }
   ],
   "metadata": {}
  }
 ]
}