{
 "metadata": {
  "name": ""
 },
 "nbformat": 3,
 "nbformat_minor": 0,
 "worksheets": [
  {
   "cells": [
    {
     "cell_type": "code",
     "collapsed": false,
     "input": [
      "import pandas as pd\n",
      "import numpy as np\n",
      "from pathlib import Path"
     ],
     "language": "python",
     "metadata": {},
     "outputs": [],
     "prompt_number": 2
    },
    {
     "cell_type": "code",
     "collapsed": false,
     "input": [
      "base_str = \"/Users/bilalh/Desktop/Experiments\"\n",
      "base = Path(base_str)"
     ],
     "language": "python",
     "metadata": {},
     "outputs": [],
     "prompt_number": 3
    },
    {
     "cell_type": "code",
     "collapsed": false,
     "input": [
      "df = pd.read_csv(str(base / \"results\" / \"info.csv\"))"
     ],
     "language": "python",
     "metadata": {},
     "outputs": [],
     "prompt_number": 4
    },
    {
     "cell_type": "code",
     "collapsed": false,
     "input": [
      "df['resulting_models'] = df['num_models'] * df['quality'] \n",
      "df['resulting_models_filled'] = df['resulting_models'].fillna(df['num_models'])\n",
      "df"
     ],
     "language": "python",
     "metadata": {},
     "outputs": [
      {
       "html": [
        "<pre>\n",
        "&lt;class 'pandas.core.frame.DataFrame'&gt;\n",
        "Int64Index: 312 entries, 0 to 311\n",
        "Data columns (total 17 columns):\n",
        "discriminating             312  non-null values\n",
        "run_no                     312  non-null values\n",
        "models_timeout             312  non-null values\n",
        "races                      312  non-null values\n",
        "method                     312  non-null values\n",
        "radius_as_percentage       276  non-null values\n",
        "output_dir                 312  non-null values\n",
        "chain_length               72  non-null values\n",
        "quality                    73  non-null values\n",
        "essence                    312  non-null values\n",
        "num_points                 168  non-null values\n",
        "num_models                 312  non-null values\n",
        "influence_radius           276  non-null values\n",
        "total_timeout              312  non-null values\n",
        "point_selector             168  non-null values\n",
        "resulting_models           73  non-null values\n",
        "resulting_models_filled    312  non-null values\n",
        "dtypes: float64(7), int64(6), object(4)\n",
        "</pre>"
       ],
       "metadata": {},
       "output_type": "pyout",
       "prompt_number": 36,
       "text": [
        "<class 'pandas.core.frame.DataFrame'>\n",
        "Int64Index: 312 entries, 0 to 311\n",
        "Data columns (total 17 columns):\n",
        "discriminating             312  non-null values\n",
        "run_no                     312  non-null values\n",
        "models_timeout             312  non-null values\n",
        "races                      312  non-null values\n",
        "method                     312  non-null values\n",
        "radius_as_percentage       276  non-null values\n",
        "output_dir                 312  non-null values\n",
        "chain_length               72  non-null values\n",
        "quality                    73  non-null values\n",
        "essence                    312  non-null values\n",
        "num_points                 168  non-null values\n",
        "num_models                 312  non-null values\n",
        "influence_radius           276  non-null values\n",
        "total_timeout              312  non-null values\n",
        "point_selector             168  non-null values\n",
        "resulting_models           73  non-null values\n",
        "resulting_models_filled    312  non-null values\n",
        "dtypes: float64(7), int64(6), object(4)"
       ]
      }
     ],
     "prompt_number": 36
    },
    {
     "cell_type": "code",
     "collapsed": false,
     "input": [
      "df['resulting_models'].apply(lambda x: 'yes' if  df['run_no'].isnull()  else 'no')"
     ],
     "language": "python",
     "metadata": {},
     "outputs": [
      {
       "ename": "ValueError",
       "evalue": "The truth value of an array with more than one element is ambiguous. Use a.any() or a.all()",
       "output_type": "pyerr",
       "traceback": [
        "\u001b[0;31m---------------------------------------------------------------------------\u001b[0m\n\u001b[0;31mValueError\u001b[0m                                Traceback (most recent call last)",
        "\u001b[0;32m<ipython-input-40-4b5ca25c25fe>\u001b[0m in \u001b[0;36m<module>\u001b[0;34m()\u001b[0m\n\u001b[0;32m----> 1\u001b[0;31m \u001b[0mdf\u001b[0m\u001b[0;34m[\u001b[0m\u001b[0;34m'resulting_models'\u001b[0m\u001b[0;34m]\u001b[0m\u001b[0;34m.\u001b[0m\u001b[0mapply\u001b[0m\u001b[0;34m(\u001b[0m\u001b[0;32mlambda\u001b[0m \u001b[0mx\u001b[0m\u001b[0;34m:\u001b[0m \u001b[0;34m'yes'\u001b[0m \u001b[0;32mif\u001b[0m  \u001b[0mdf\u001b[0m\u001b[0;34m[\u001b[0m\u001b[0;34m'run_no'\u001b[0m\u001b[0;34m]\u001b[0m\u001b[0;34m.\u001b[0m\u001b[0misnull\u001b[0m\u001b[0;34m(\u001b[0m\u001b[0;34m)\u001b[0m  \u001b[0;32melse\u001b[0m \u001b[0;34m'no'\u001b[0m\u001b[0;34m)\u001b[0m\u001b[0;34m\u001b[0m\u001b[0m\n\u001b[0m",
        "\u001b[0;32m/Users/bilalh/.local/anaconda/envs/py3/lib/python3.3/site-packages/pandas/core/series.py\u001b[0m in \u001b[0;36mapply\u001b[0;34m(self, func, convert_dtype, args, **kwds)\u001b[0m\n\u001b[1;32m   2534\u001b[0m             \u001b[0mvalues\u001b[0m \u001b[0;34m=\u001b[0m \u001b[0mlib\u001b[0m\u001b[0;34m.\u001b[0m\u001b[0mmap_infer\u001b[0m\u001b[0;34m(\u001b[0m\u001b[0mvalues\u001b[0m\u001b[0;34m,\u001b[0m \u001b[0mlib\u001b[0m\u001b[0;34m.\u001b[0m\u001b[0mTimestamp\u001b[0m\u001b[0;34m)\u001b[0m\u001b[0;34m\u001b[0m\u001b[0m\n\u001b[1;32m   2535\u001b[0m \u001b[0;34m\u001b[0m\u001b[0m\n\u001b[0;32m-> 2536\u001b[0;31m         \u001b[0mmapped\u001b[0m \u001b[0;34m=\u001b[0m \u001b[0mlib\u001b[0m\u001b[0;34m.\u001b[0m\u001b[0mmap_infer\u001b[0m\u001b[0;34m(\u001b[0m\u001b[0mvalues\u001b[0m\u001b[0;34m,\u001b[0m \u001b[0mf\u001b[0m\u001b[0;34m,\u001b[0m \u001b[0mconvert\u001b[0m\u001b[0;34m=\u001b[0m\u001b[0mconvert_dtype\u001b[0m\u001b[0;34m)\u001b[0m\u001b[0;34m\u001b[0m\u001b[0m\n\u001b[0m\u001b[1;32m   2537\u001b[0m         \u001b[0;32mif\u001b[0m \u001b[0misinstance\u001b[0m\u001b[0;34m(\u001b[0m\u001b[0mmapped\u001b[0m\u001b[0;34m[\u001b[0m\u001b[0;36m0\u001b[0m\u001b[0;34m]\u001b[0m\u001b[0;34m,\u001b[0m \u001b[0mSeries\u001b[0m\u001b[0;34m)\u001b[0m\u001b[0;34m:\u001b[0m\u001b[0;34m\u001b[0m\u001b[0m\n\u001b[1;32m   2538\u001b[0m             \u001b[0;32mfrom\u001b[0m \u001b[0mpandas\u001b[0m\u001b[0;34m.\u001b[0m\u001b[0mcore\u001b[0m\u001b[0;34m.\u001b[0m\u001b[0mframe\u001b[0m \u001b[0;32mimport\u001b[0m \u001b[0mDataFrame\u001b[0m\u001b[0;34m\u001b[0m\u001b[0m\n",
        "\u001b[0;32m/Users/bilalh/.local/anaconda/envs/py3/lib/python3.3/site-packages/pandas/lib.so\u001b[0m in \u001b[0;36mpandas.lib.map_infer (pandas/lib.c:42840)\u001b[0;34m()\u001b[0m\n",
        "\u001b[0;32m<ipython-input-40-4b5ca25c25fe>\u001b[0m in \u001b[0;36m<lambda>\u001b[0;34m(x)\u001b[0m\n\u001b[0;32m----> 1\u001b[0;31m \u001b[0mdf\u001b[0m\u001b[0;34m[\u001b[0m\u001b[0;34m'resulting_models'\u001b[0m\u001b[0;34m]\u001b[0m\u001b[0;34m.\u001b[0m\u001b[0mapply\u001b[0m\u001b[0;34m(\u001b[0m\u001b[0;32mlambda\u001b[0m \u001b[0mx\u001b[0m\u001b[0;34m:\u001b[0m \u001b[0;34m'yes'\u001b[0m \u001b[0;32mif\u001b[0m  \u001b[0mdf\u001b[0m\u001b[0;34m[\u001b[0m\u001b[0;34m'run_no'\u001b[0m\u001b[0;34m]\u001b[0m\u001b[0;34m.\u001b[0m\u001b[0misnull\u001b[0m\u001b[0;34m(\u001b[0m\u001b[0;34m)\u001b[0m  \u001b[0;32melse\u001b[0m \u001b[0;34m'no'\u001b[0m\u001b[0;34m)\u001b[0m\u001b[0;34m\u001b[0m\u001b[0m\n\u001b[0m",
        "\u001b[0;31mValueError\u001b[0m: The truth value of an array with more than one element is ambiguous. Use a.any() or a.all()"
       ]
      }
     ],
     "prompt_number": 40
    },
    {
     "cell_type": "code",
     "collapsed": false,
     "input": [
      "df['resulting_models'].apply"
     ],
     "language": "python",
     "metadata": {},
     "outputs": []
    },
    {
     "cell_type": "code",
     "collapsed": false,
     "input": [
      "df.pivot_table(cols=['essence', 'num_models', 'method', 'total_timeout', 'races'], \n",
      "               values='resulting_models')"
     ],
     "language": "python",
     "metadata": {},
     "outputs": [
      {
       "metadata": {},
       "output_type": "pyout",
       "prompt_number": 41,
       "text": [
        "essence           num_models  method   total_timeout  races\n",
        "prob010-SCP       4           ksample  43200          10             NaN\n",
        "                                                      25        1.000000\n",
        "                                                      50        1.500000\n",
        "                                       86400          10        2.000000\n",
        "                                                      25        1.000000\n",
        "                                                      50        1.666667\n",
        "                                       302400         10             NaN\n",
        "                                                      25        1.400000\n",
        "                                                      50        1.571429\n",
        "                              markov   43200          5              NaN\n",
        "                                                      10        1.000000\n",
        "                                                      25             NaN\n",
        "                                       86400          5         1.000000\n",
        "                                                      10        2.000000\n",
        "                                                      25        1.500000\n",
        "                                       302400         5         1.000000\n",
        "                                                      10        1.000000\n",
        "                                                      25        1.333333\n",
        "                              nsample  43200          5              NaN\n",
        "                                                      10             NaN\n",
        "                                                      25        2.000000\n",
        "                                       86400          5         2.000000\n",
        "                                                      10             NaN\n",
        "                                                      25        1.000000\n",
        "                                       302400         5         1.000000\n",
        "                                                      10        1.000000\n",
        "                                                      25        1.000000\n",
        "                              smac     43200          5              NaN\n",
        "                                                      10             NaN\n",
        "                                                      25             NaN\n",
        "                                       86400          5         3.000000\n",
        "                                                      10             NaN\n",
        "                                                      25             NaN\n",
        "                                       302400         5              NaN\n",
        "                                                      10             NaN\n",
        "                                                      25        2.000000\n",
        "                              uniform  43200          5              NaN\n",
        "                                                      10             NaN\n",
        "                                                      25        2.000000\n",
        "                                       86400          5              NaN\n",
        "                                                      10        1.000000\n",
        "                                                      25             NaN\n",
        "                                       302400         5              NaN\n",
        "                                                      10             NaN\n",
        "                                                      25        1.000000\n",
        "prob024-Langford  154         ksample  43200          5              NaN\n",
        "                                                      10             NaN\n",
        "                                                      25             NaN\n",
        "                                       86400          5              NaN\n",
        "                                                      10             NaN\n",
        "                                                      25             NaN\n",
        "                                       302400         5        20.000000\n",
        "                                                      10             NaN\n",
        "                                                      25             NaN\n",
        "                                       604800         5         4.000000\n",
        "                                                      10        4.800000\n",
        "                                                      25             NaN\n",
        "Length: 57, dtype: float64"
       ]
      }
     ],
     "prompt_number": 41
    },
    {
     "cell_type": "code",
     "collapsed": false,
     "input": [
      "df.pivot_table(cols=['essence', 'num_models', 'total_timeout','races', 'method'], \n",
      "               values='resulting_models_filled')"
     ],
     "language": "python",
     "metadata": {},
     "outputs": [
      {
       "metadata": {},
       "output_type": "pyout",
       "prompt_number": 71,
       "text": [
        "essence           num_models  total_timeout  races  method \n",
        "prob010-SCP       4           43200          5      markov       4.000\n",
        "                                                    nsample      4.000\n",
        "                                                    smac         4.000\n",
        "                                                    uniform      4.000\n",
        "                                             10     ksample      4.000\n",
        "                                                    markov       3.250\n",
        "                                                    nsample      4.000\n",
        "                                                    smac         4.000\n",
        "                                                    uniform      4.000\n",
        "                                             25     ksample      3.625\n",
        "                                                    markov       4.000\n",
        "                                                    nsample      3.500\n",
        "                                                    smac         4.000\n",
        "                                                    uniform      2.000\n",
        "                                             50     ksample      2.750\n",
        "                              86400          5      markov       3.250\n",
        "                                                    nsample      3.500\n",
        "                                                    smac         3.000\n",
        "                                                    uniform      4.000\n",
        "                                             10     ksample      3.750\n",
        "                                                    markov       3.500\n",
        "                                                    nsample      4.000\n",
        "                                                    smac         4.000\n",
        "                                                    uniform      2.500\n",
        "                                             25     ksample      2.875\n",
        "                                                    markov       3.375\n",
        "                                                    nsample      2.500\n",
        "                                                    smac         4.000\n",
        "                                                    uniform      4.000\n",
        "                                             50     ksample      3.125\n",
        "                              302400         5      markov       2.875\n",
        "                                                    nsample      2.500\n",
        "                                                    smac         4.000\n",
        "                                                    uniform      4.000\n",
        "                                             10     ksample      4.000\n",
        "                                                    markov       3.250\n",
        "                                                    nsample      2.500\n",
        "                                                    smac         4.000\n",
        "                                                    uniform      4.000\n",
        "                                             25     ksample      2.375\n",
        "                                                    markov       3.000\n",
        "                                                    nsample      3.250\n",
        "                                                    smac         2.000\n",
        "                                                    uniform      2.500\n",
        "                                             50     ksample      1.875\n",
        "prob024-Langford  154         43200          5      ksample    154.000\n",
        "                                             10     ksample    154.000\n",
        "                                             25     ksample    154.000\n",
        "                              86400          5      ksample    154.000\n",
        "                                             10     ksample    154.000\n",
        "                                             25     ksample    154.000\n",
        "                              302400         5      ksample     87.000\n",
        "                                             10     ksample    154.000\n",
        "                                             25     ksample    154.000\n",
        "                              604800         5      ksample     22.750\n",
        "                                             10     ksample     60.750\n",
        "                                             25     ksample    154.000\n",
        "Length: 57, dtype: float64"
       ]
      }
     ],
     "prompt_number": 71
    },
    {
     "cell_type": "code",
     "collapsed": false,
     "input": [
      "klang = df[ (df['method'] == 'ksample') & (df['essence'] == 'prob024-Langford')  ]\n",
      "klang"
     ],
     "language": "python",
     "metadata": {},
     "outputs": [
      {
       "html": [
        "<pre>\n",
        "&lt;class 'pandas.core.frame.DataFrame'&gt;\n",
        "Int64Index: 96 entries, 72 to 167\n",
        "Data columns (total 17 columns):\n",
        "discriminating             96  non-null values\n",
        "run_no                     96  non-null values\n",
        "models_timeout             96  non-null values\n",
        "races                      96  non-null values\n",
        "method                     96  non-null values\n",
        "radius_as_percentage       96  non-null values\n",
        "output_dir                 96  non-null values\n",
        "chain_length               0  non-null values\n",
        "quality                    16  non-null values\n",
        "essence                    96  non-null values\n",
        "num_points                 96  non-null values\n",
        "num_models                 96  non-null values\n",
        "influence_radius           96  non-null values\n",
        "total_timeout              96  non-null values\n",
        "point_selector             96  non-null values\n",
        "resulting_models           16  non-null values\n",
        "resulting_models_filled    96  non-null values\n",
        "dtypes: float64(7), int64(6), object(4)\n",
        "</pre>"
       ],
       "metadata": {},
       "output_type": "pyout",
       "prompt_number": 47,
       "text": [
        "<class 'pandas.core.frame.DataFrame'>\n",
        "Int64Index: 96 entries, 72 to 167\n",
        "Data columns (total 17 columns):\n",
        "discriminating             96  non-null values\n",
        "run_no                     96  non-null values\n",
        "models_timeout             96  non-null values\n",
        "races                      96  non-null values\n",
        "method                     96  non-null values\n",
        "radius_as_percentage       96  non-null values\n",
        "output_dir                 96  non-null values\n",
        "chain_length               0  non-null values\n",
        "quality                    16  non-null values\n",
        "essence                    96  non-null values\n",
        "num_points                 96  non-null values\n",
        "num_models                 96  non-null values\n",
        "influence_radius           96  non-null values\n",
        "total_timeout              96  non-null values\n",
        "point_selector             96  non-null values\n",
        "resulting_models           16  non-null values\n",
        "resulting_models_filled    96  non-null values\n",
        "dtypes: float64(7), int64(6), object(4)"
       ]
      }
     ],
     "prompt_number": 47
    },
    {
     "cell_type": "code",
     "collapsed": false,
     "input": [
      "klang.pivot_table(cols=['num_points'], values=['resulting_models_filled'] )"
     ],
     "language": "python",
     "metadata": {},
     "outputs": [
      {
       "html": [
        "<div style=\"max-height:1000px;max-width:1500px;overflow:auto;\">\n",
        "<table border=\"1\" class=\"dataframe\">\n",
        "  <thead>\n",
        "    <tr style=\"text-align: right;\">\n",
        "      <th>num_points</th>\n",
        "      <th>20.0</th>\n",
        "      <th>100.0</th>\n",
        "    </tr>\n",
        "  </thead>\n",
        "  <tbody>\n",
        "    <tr>\n",
        "      <th>resulting_models</th>\n",
        "      <td> 4.166667</td>\n",
        "      <td> 10.7</td>\n",
        "    </tr>\n",
        "  </tbody>\n",
        "</table>\n",
        "</div>"
       ],
       "metadata": {},
       "output_type": "pyout",
       "prompt_number": 56,
       "text": [
        "num_points             20    100\n",
        "resulting_models  4.166667  10.7"
       ]
      }
     ],
     "prompt_number": 56
    },
    {
     "cell_type": "code",
     "collapsed": false,
     "input": [
      "klang.pivot_table(cols=['point_selector', 'total_timeout', 'races'], \n",
      "                  values='resulting_models_filled', \n",
      "                  margins=True )"
     ],
     "language": "python",
     "metadata": {},
     "outputs": [
      {
       "metadata": {},
       "output_type": "pyout",
       "prompt_number": 75,
       "text": [
        "point_selector  total_timeout  races\n",
        "first           43200          5        154.000000\n",
        "                               10       154.000000\n",
        "                               25       154.000000\n",
        "                86400          5        154.000000\n",
        "                               10       154.000000\n",
        "                               25       154.000000\n",
        "                302400         5         89.750000\n",
        "                               10       154.000000\n",
        "                               25       154.000000\n",
        "                604800         5         41.750000\n",
        "                               10        79.250000\n",
        "                               25       154.000000\n",
        "halving         43200          5        154.000000\n",
        "                               10       154.000000\n",
        "                               25       154.000000\n",
        "                86400          5        154.000000\n",
        "                               10       154.000000\n",
        "                               25       154.000000\n",
        "                302400         5         84.250000\n",
        "                               10       154.000000\n",
        "                               25       154.000000\n",
        "                604800         5          3.750000\n",
        "                               10        42.250000\n",
        "                               25       154.000000\n",
        "All                                     129.708333\n",
        "dtype: float64"
       ]
      }
     ],
     "prompt_number": 75
    },
    {
     "cell_type": "code",
     "collapsed": false,
     "input": [],
     "language": "python",
     "metadata": {},
     "outputs": []
    }
   ],
   "metadata": {}
  }
 ]
}